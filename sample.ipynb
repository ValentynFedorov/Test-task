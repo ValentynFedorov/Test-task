{
 "cells": [
  {
   "metadata": {
    "ExecuteTime": {
     "end_time": "2025-07-03T15:23:27.479090Z",
     "start_time": "2025-07-03T15:23:27.466043Z"
    }
   },
   "cell_type": "code",
   "source": [
    "import pandas as pd\n",
    "import matplotlib.pyplot as plt\n",
    "import numpy as np\n",
    "import seaborn as sns\n",
    "from scipy.stats import chisquare"
   ],
   "id": "fbc121e30a2defb3",
   "outputs": [],
   "execution_count": 17
  },
  {
   "metadata": {
    "ExecuteTime": {
     "end_time": "2025-07-03T15:23:27.697185Z",
     "start_time": "2025-07-03T15:23:27.656876Z"
    }
   },
   "cell_type": "code",
   "source": [
    "df = pd.read_csv('data/Junior Risk Analyst - 1.csv')\n",
    "df"
   ],
   "id": "ac5e3525bd966bf2",
   "outputs": [
    {
     "data": {
      "text/plain": [
       "       result\n",
       "0          22\n",
       "1          35\n",
       "2          36\n",
       "3          25\n",
       "4          11\n",
       "...       ...\n",
       "99995      27\n",
       "99996      34\n",
       "99997      19\n",
       "99998       1\n",
       "99999      11\n",
       "\n",
       "[100000 rows x 1 columns]"
      ],
      "text/html": [
       "<div>\n",
       "<style scoped>\n",
       "    .dataframe tbody tr th:only-of-type {\n",
       "        vertical-align: middle;\n",
       "    }\n",
       "\n",
       "    .dataframe tbody tr th {\n",
       "        vertical-align: top;\n",
       "    }\n",
       "\n",
       "    .dataframe thead th {\n",
       "        text-align: right;\n",
       "    }\n",
       "</style>\n",
       "<table border=\"1\" class=\"dataframe\">\n",
       "  <thead>\n",
       "    <tr style=\"text-align: right;\">\n",
       "      <th></th>\n",
       "      <th>result</th>\n",
       "    </tr>\n",
       "  </thead>\n",
       "  <tbody>\n",
       "    <tr>\n",
       "      <th>0</th>\n",
       "      <td>22</td>\n",
       "    </tr>\n",
       "    <tr>\n",
       "      <th>1</th>\n",
       "      <td>35</td>\n",
       "    </tr>\n",
       "    <tr>\n",
       "      <th>2</th>\n",
       "      <td>36</td>\n",
       "    </tr>\n",
       "    <tr>\n",
       "      <th>3</th>\n",
       "      <td>25</td>\n",
       "    </tr>\n",
       "    <tr>\n",
       "      <th>4</th>\n",
       "      <td>11</td>\n",
       "    </tr>\n",
       "    <tr>\n",
       "      <th>...</th>\n",
       "      <td>...</td>\n",
       "    </tr>\n",
       "    <tr>\n",
       "      <th>99995</th>\n",
       "      <td>27</td>\n",
       "    </tr>\n",
       "    <tr>\n",
       "      <th>99996</th>\n",
       "      <td>34</td>\n",
       "    </tr>\n",
       "    <tr>\n",
       "      <th>99997</th>\n",
       "      <td>19</td>\n",
       "    </tr>\n",
       "    <tr>\n",
       "      <th>99998</th>\n",
       "      <td>1</td>\n",
       "    </tr>\n",
       "    <tr>\n",
       "      <th>99999</th>\n",
       "      <td>11</td>\n",
       "    </tr>\n",
       "  </tbody>\n",
       "</table>\n",
       "<p>100000 rows × 1 columns</p>\n",
       "</div>"
      ]
     },
     "execution_count": 18,
     "metadata": {},
     "output_type": "execute_result"
    }
   ],
   "execution_count": 18
  },
  {
   "metadata": {
    "ExecuteTime": {
     "end_time": "2025-07-03T15:23:27.852925Z",
     "start_time": "2025-07-03T15:23:27.840411Z"
    }
   },
   "cell_type": "code",
   "source": "value_counts = df['result'].value_counts().sort_index()",
   "id": "2fe9c8d97264d528",
   "outputs": [],
   "execution_count": 19
  },
  {
   "metadata": {
    "ExecuteTime": {
     "end_time": "2025-07-03T15:23:28.320435Z",
     "start_time": "2025-07-03T15:23:27.995455Z"
    }
   },
   "cell_type": "code",
   "source": [
    "plt.figure(figsize=(14, 6))\n",
    "sns.barplot(x=value_counts.index, y=value_counts.values, palette='viridis')\n",
    "plt.xlabel(\"Roulette Number\", fontsize=12)\n",
    "plt.ylabel(\"Frequency\", fontsize=12)\n",
    "plt.xticks(range(0, 37))\n",
    "plt.grid(axis='y', linestyle='--', alpha=0.7)\n",
    "plt.tight_layout()\n",
    "plt.show()"
   ],
   "id": "3b3744212b0824d6",
   "outputs": [
    {
     "name": "stderr",
     "output_type": "stream",
     "text": [
      "C:\\Users\\valik\\AppData\\Local\\Temp\\ipykernel_10828\\4077141593.py:2: FutureWarning: \n",
      "\n",
      "Passing `palette` without assigning `hue` is deprecated and will be removed in v0.14.0. Assign the `x` variable to `hue` and set `legend=False` for the same effect.\n",
      "\n",
      "  sns.barplot(x=value_counts.index, y=value_counts.values, palette='viridis')\n"
     ]
    },
    {
     "data": {
      "text/plain": [
       "<Figure size 1400x600 with 1 Axes>"
      ],
      "image/png": "[encoded data removed]"
     },
     "metadata": {},
     "output_type": "display_data"
    }
   ],
   "execution_count": 20
  },
  {
   "metadata": {
    "ExecuteTime": {
     "end_time": "2025-07-03T15:23:28.335812Z",
     "start_time": "2025-07-03T15:23:28.327804Z"
    }
   },
   "cell_type": "code",
   "source": [
    "expected_freq = [len(df) / 37] * 37  # Expected frequency for uniform distribution\n",
    "chi2_stat, p_value = chisquare(f_obs=value_counts.values, f_exp=expected_freq)"
   ],
   "id": "ee780518b13ab82",
   "outputs": [],
   "execution_count": 21
  },
  {
   "metadata": {
    "ExecuteTime": {
     "end_time": "2025-07-03T15:23:29.566722Z",
     "start_time": "2025-07-03T15:23:29.554167Z"
    }
   },
   "cell_type": "code",
   "source": [
    "mean_freq = value_counts.mean()\n",
    "std_freq = value_counts.std()\n",
    "min_freq = value_counts.min()\n",
    "max_freq = value_counts.max()\n",
    "\n",
    "print(f\"Mean frequency: {mean_freq:.2f}\")\n",
    "print(f\"Standard deviation: {std_freq:.2f}\")\n",
    "print(f\"Min frequency: {min_freq}\")\n",
    "print(f\"Max frequency: {max_freq}\")\n",
    "print(f\"Chi-square statistic: {chi2_stat:.2f}\")\n",
    "print(f\"p-value: {p_value:.6f}\")"
   ],
   "id": "18e51e876691f8b2",
   "outputs": [
    {
     "name": "stdout",
     "output_type": "stream",
     "text": [
      "Mean frequency: 2702.70\n",
      "Standard deviation: 81.06\n",
      "Min frequency: 2534\n",
      "Max frequency: 2872\n",
      "Chi-square statistic: 87.53\n",
      "p-value: 0.000004\n"
     ]
    }
   ],
   "execution_count": 22
  },
  {
   "metadata": {
    "ExecuteTime": {
     "end_time": "2025-07-03T15:23:29.784097Z",
     "start_time": "2025-07-03T15:23:29.772911Z"
    }
   },
   "cell_type": "code",
   "source": [
    "sorted_counts = value_counts.sort_values()\n",
    "print(\"\\nTop 5 Underrepresented Numbers:\")\n",
    "print(sorted_counts.head())\n",
    "\n",
    "print(\"\\nTop 5 Overrepresented Numbers:\")\n",
    "print(sorted_counts.tail())"
   ],
   "id": "b9b3eecf6c2f8366",
   "outputs": [
    {
     "name": "stdout",
     "output_type": "stream",
     "text": [
      "\n",
      "Top 5 Underrepresented Numbers:\n",
      "result\n",
      "35    2534\n",
      "2     2574\n",
      "9     2588\n",
      "18    2602\n",
      "6     2613\n",
      "Name: count, dtype: int64\n",
      "\n",
      "Top 5 Overrepresented Numbers:\n",
      "result\n",
      "13    2797\n",
      "8     2809\n",
      "5     2815\n",
      "11    2831\n",
      "36    2872\n",
      "Name: count, dtype: int64\n"
     ]
    }
   ],
   "execution_count": 23
  },
  {
   "metadata": {
    "ExecuteTime": {
     "end_time": "2025-07-03T15:23:30.717955Z",
     "start_time": "2025-07-03T15:23:30.704132Z"
    }
   },
   "cell_type": "code",
   "source": [
    "green_numbers = {0}\n",
    "red_numbers = {1, 3, 5, 7, 9, 12, 14, 16, 18, 19, 21, 23, 25, 27, 30, 32, 34, 36}\n",
    "black_numbers = {2, 4, 6, 8, 10, 11, 13, 15, 17, 20, 22, 24, 26, 28, 29, 31, 33, 35}"
   ],
   "id": "144976428f9729fa",
   "outputs": [],
   "execution_count": 24
  },
  {
   "metadata": {
    "ExecuteTime": {
     "end_time": "2025-07-03T15:23:31.417782Z",
     "start_time": "2025-07-03T15:23:31.389154Z"
    }
   },
   "cell_type": "code",
   "source": [
    "df['is_green'] = df['result'].isin(green_numbers).astype(int)\n",
    "df['is_red'] = df['result'].isin(red_numbers).astype(int)\n",
    "df['is_black'] = df['result'].isin(black_numbers).astype(int)"
   ],
   "id": "b3ffd13816690349",
   "outputs": [],
   "execution_count": 25
  },
  {
   "metadata": {
    "ExecuteTime": {
     "end_time": "2025-07-03T15:23:31.990105Z",
     "start_time": "2025-07-03T15:23:31.979584Z"
    }
   },
   "cell_type": "code",
   "source": [
    "green_count = df['is_green'].sum()\n",
    "red_count = df['is_red'].sum()\n",
    "black_count = df['is_black'].sum()"
   ],
   "id": "2cb9c8eff22cf0c4",
   "outputs": [],
   "execution_count": 26
  },
  {
   "metadata": {
    "ExecuteTime": {
     "end_time": "2025-07-03T15:24:38.605097Z",
     "start_time": "2025-07-03T15:24:38.591582Z"
    }
   },
   "cell_type": "code",
   "source": [
    "print(green_count)\n",
    "print(red_count)\n",
    "print(black_count)"
   ],
   "id": "93ed13199145e1",
   "outputs": [
    {
     "name": "stdout",
     "output_type": "stream",
     "text": [
      "2754\n",
      "48617\n",
      "48629\n"
     ]
    }
   ],
   "execution_count": 29
  },
  {
   "metadata": {
    "ExecuteTime": {
     "end_time": "2025-07-03T15:23:33.281127Z",
     "start_time": "2025-07-03T15:23:33.271597Z"
    }
   },
   "cell_type": "code",
   "source": "df",
   "id": "175fa3c0170d3cda",
   "outputs": [
    {
     "data": {
      "text/plain": [
       "       result  is_green  is_red  is_black\n",
       "0          22         0       0         1\n",
       "1          35         0       0         1\n",
       "2          36         0       1         0\n",
       "3          25         0       1         0\n",
       "4          11         0       0         1\n",
       "...       ...       ...     ...       ...\n",
       "99995      27         0       1         0\n",
       "99996      34         0       1         0\n",
       "99997      19         0       1         0\n",
       "99998       1         0       1         0\n",
       "99999      11         0       0         1\n",
       "\n",
       "[100000 rows x 4 columns]"
      ],
      "text/html": [
       "<div>\n",
       "<style scoped>\n",
       "    .dataframe tbody tr th:only-of-type {\n",
       "        vertical-align: middle;\n",
       "    }\n",
       "\n",
       "    .dataframe tbody tr th {\n",
       "        vertical-align: top;\n",
       "    }\n",
       "\n",
       "    .dataframe thead th {\n",
       "        text-align: right;\n",
       "    }\n",
       "</style>\n",
       "<table border=\"1\" class=\"dataframe\">\n",
       "  <thead>\n",
       "    <tr style=\"text-align: right;\">\n",
       "      <th></th>\n",
       "      <th>result</th>\n",
       "      <th>is_green</th>\n",
       "      <th>is_red</th>\n",
       "      <th>is_black</th>\n",
       "    </tr>\n",
       "  </thead>\n",
       "  <tbody>\n",
       "    <tr>\n",
       "      <th>0</th>\n",
       "      <td>22</td>\n",
       "      <td>0</td>\n",
       "      <td>0</td>\n",
       "      <td>1</td>\n",
       "    </tr>\n",
       "    <tr>\n",
       "      <th>1</th>\n",
       "      <td>35</td>\n",
       "      <td>0</td>\n",
       "      <td>0</td>\n",
       "      <td>1</td>\n",
       "    </tr>\n",
       "    <tr>\n",
       "      <th>2</th>\n",
       "      <td>36</td>\n",
       "      <td>0</td>\n",
       "      <td>1</td>\n",
       "      <td>0</td>\n",
       "    </tr>\n",
       "    <tr>\n",
       "      <th>3</th>\n",
       "      <td>25</td>\n",
       "      <td>0</td>\n",
       "      <td>1</td>\n",
       "      <td>0</td>\n",
       "    </tr>\n",
       "    <tr>\n",
       "      <th>4</th>\n",
       "      <td>11</td>\n",
       "      <td>0</td>\n",
       "      <td>0</td>\n",
       "      <td>1</td>\n",
       "    </tr>\n",
       "    <tr>\n",
       "      <th>...</th>\n",
       "      <td>...</td>\n",
       "      <td>...</td>\n",
       "      <td>...</td>\n",
       "      <td>...</td>\n",
       "    </tr>\n",
       "    <tr>\n",
       "      <th>99995</th>\n",
       "      <td>27</td>\n",
       "      <td>0</td>\n",
       "      <td>1</td>\n",
       "      <td>0</td>\n",
       "    </tr>\n",
       "    <tr>\n",
       "      <th>99996</th>\n",
       "      <td>34</td>\n",
       "      <td>0</td>\n",
       "      <td>1</td>\n",
       "      <td>0</td>\n",
       "    </tr>\n",
       "    <tr>\n",
       "      <th>99997</th>\n",
       "      <td>19</td>\n",
       "      <td>0</td>\n",
       "      <td>1</td>\n",
       "      <td>0</td>\n",
       "    </tr>\n",
       "    <tr>\n",
       "      <th>99998</th>\n",
       "      <td>1</td>\n",
       "      <td>0</td>\n",
       "      <td>1</td>\n",
       "      <td>0</td>\n",
       "    </tr>\n",
       "    <tr>\n",
       "      <th>99999</th>\n",
       "      <td>11</td>\n",
       "      <td>0</td>\n",
       "      <td>0</td>\n",
       "      <td>1</td>\n",
       "    </tr>\n",
       "  </tbody>\n",
       "</table>\n",
       "<p>100000 rows × 4 columns</p>\n",
       "</div>"
      ]
     },
     "execution_count": 27,
     "metadata": {},
     "output_type": "execute_result"
    }
   ],
   "execution_count": 27
  },
  {
   "metadata": {
    "ExecuteTime": {
     "end_time": "2025-07-03T15:26:00.614988Z",
     "start_time": "2025-07-03T15:26:00.495128Z"
    }
   },
   "cell_type": "code",
   "source": [
    "color_counts = {\n",
    "    'Green': df['is_green'].sum(),\n",
    "    'Red': df['is_red'].sum(),\n",
    "    'Black': df['is_black'].sum()\n",
    "}\n",
    "\n",
    "plt.figure(figsize=(8, 5))\n",
    "sns.barplot(x=list(color_counts.keys()), y=list(color_counts.values()), palette=[\"green\", \"red\", \"black\"])\n",
    "plt.title(\"Distribution of Roulette Results by Color\")\n",
    "plt.xlabel(\"Color\", fontsize=12)\n",
    "plt.ylabel(\"Number of Spins\", fontsize=12)\n",
    "plt.grid(axis='y', linestyle='--', alpha=0.7)\n",
    "plt.tight_layout()\n",
    "plt.show()"
   ],
   "id": "c16d7ccf15a77ac8",
   "outputs": [
    {
     "name": "stderr",
     "output_type": "stream",
     "text": [
      "C:\\Users\\valik\\AppData\\Local\\Temp\\ipykernel_10828\\2870207482.py:8: FutureWarning: \n",
      "\n",
      "Passing `palette` without assigning `hue` is deprecated and will be removed in v0.14.0. Assign the `x` variable to `hue` and set `legend=False` for the same effect.\n",
      "\n",
      "  sns.barplot(x=list(color_counts.keys()), y=list(color_counts.values()), palette=[\"green\", \"red\", \"black\"])\n"
     ]
    },
    {
     "data": {
      "text/plain": [
       "<Figure size 800x500 with 1 Axes>"
      ],
      "image/png": "[encoded data removed]"
     },
     "metadata": {},
     "output_type": "display_data"
    }
   ],
   "execution_count": 32
  },
  {
   "metadata": {},
   "cell_type": "code",
   "outputs": [],
   "execution_count": null,
   "source": "",
   "id": "2b29f0a9f9a4c035"
  }
 ],
 "metadata": {
  "kernelspec": {
   "display_name": "UV env for IKEA",
   "language": "python",
   "name": "ikea"
  },
  "language_info": {
   "codemirror_mode": {
    "name": "ipython",
    "version": 2
   },
   "file_extension": ".py",
   "mimetype": "text/x-python",
   "name": "python",
   "nbconvert_exporter": "python",
   "pygments_lexer": "ipython2",
   "version": "2.7.6"
  }
 },
 "nbformat": 4,
 "nbformat_minor": 5
}
